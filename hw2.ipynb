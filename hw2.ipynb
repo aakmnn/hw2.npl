{
 "cells": [
  {
   "cell_type": "markdown",
   "id": "96984bf7",
   "metadata": {},
   "source": [
    "## OCR — Optical Character Recognition"
   ]
  },
  {
   "cell_type": "code",
   "execution_count": null,
   "id": "d88ba797",
   "metadata": {},
   "outputs": [],
   "source": [
    "\n",
    "from PIL import Image\n",
    "import pytesseract\n",
    "\n",
    "# Открываем изображение (замени 'nlp_image.png' на нужное имя файла)\n",
    "try:\n",
    "    img = Image.open(\"nlp_image.png\")\n",
    "    text = pytesseract.image_to_string(img, lang=\"eng\")\n",
    "    print(\"Распознанный текст:\")\n",
    "    print(text)\n",
    "except Exception as e:\n",
    "    print(\"Ошибка при OCR:\", e)\n"
   ]
  },
  {
   "cell_type": "markdown",
   "id": "7e8da1b8",
   "metadata": {},
   "source": [
    "## Speech Recognition — Clean sound"
   ]
  },
  {
   "cell_type": "code",
   "execution_count": null,
   "id": "e6d9c91c",
   "metadata": {},
   "outputs": [],
   "source": [
    "\n",
    "import speech_recognition as sr\n",
    "\n",
    "recognizer = sr.Recognizer()\n",
    "try:\n",
    "    with sr.AudioFile(\"clean_audio.wav\") as source:\n",
    "        audio = recognizer.record(source)\n",
    "        text = recognizer.recognize_google(audio, language=\"en-US\")\n",
    "        print(\"Распознанный текст (clean):\", text)\n",
    "except Exception as e:\n",
    "    print(\"Ошибка при распознавании clean audio:\", e)\n"
   ]
  },
  {
   "cell_type": "markdown",
   "id": "efbbff82",
   "metadata": {},
   "source": [
    "## Speech Recognition — Noisy sound"
   ]
  },
  {
   "cell_type": "code",
   "execution_count": null,
   "id": "41ce64cc",
   "metadata": {},
   "outputs": [],
   "source": [
    "\n",
    "import speech_recognition as sr\n",
    "\n",
    "recognizer = sr.Recognizer()\n",
    "try:\n",
    "    with sr.AudioFile(\"noisy_audio.wav\") as source:\n",
    "        # подавляем шум\n",
    "        recognizer.adjust_for_ambient_noise(source)\n",
    "        audio = recognizer.record(source)\n",
    "        text = recognizer.recognize_google(audio, language=\"en-US\")\n",
    "        print(\"Распознанный текст (noisy):\", text)\n",
    "except Exception as e:\n",
    "    print(\"Ошибка при распознавании noisy audio:\", e)\n"
   ]
  },
  {
   "cell_type": "markdown",
   "id": "577258e9",
   "metadata": {},
   "source": [
    "## Scraping — Web page parsing"
   ]
  },
  {
   "cell_type": "code",
   "execution_count": null,
   "id": "7d30544c",
   "metadata": {},
   "outputs": [],
   "source": [
    "\n",
    "import requests\n",
    "from bs4 import BeautifulSoup\n",
    "\n",
    "url = \"https://en.wikipedia.org/wiki/Natural_language_processing\"\n",
    "try:\n",
    "    response = requests.get(url)\n",
    "    soup = BeautifulSoup(response.text, \"html.parser\")\n",
    "    paragraphs = soup.find_all(\"p\")\n",
    "    for p in paragraphs[:5]:\n",
    "        print(p.get_text())\n",
    "except Exception as e:\n",
    "    print(\"Ошибка при web scraping:\", e)\n"
   ]
  },
  {
   "cell_type": "markdown",
   "id": "86a66739",
   "metadata": {},
   "source": [
    "## Text preprocessing"
   ]
  },
  {
   "cell_type": "code",
   "execution_count": null,
   "id": "572f0c03",
   "metadata": {},
   "outputs": [],
   "source": [
    "\n",
    "import re\n",
    "import nltk\n",
    "from nltk.corpus import stopwords\n",
    "from nltk.stem import PorterStemmer\n",
    "\n",
    "nltk.download('punkt')\n",
    "nltk.download('stopwords')\n",
    "\n",
    "text = \"This is an example sentence, showing off the stop words filtration and stemming process!\"\n",
    "\n",
    "# Токенизация\n",
    "tokens = nltk.word_tokenize(text.lower())\n",
    "\n",
    "# Удаление стоп-слов\n",
    "filtered = [w for w in tokens if w not in stopwords.words('english') and w.isalpha()]\n",
    "\n",
    "# Стемминг\n",
    "stemmer = PorterStemmer()\n",
    "stems = [stemmer.stem(w) for w in filtered]\n",
    "\n",
    "print(\"Исходный текст:\", text)\n",
    "print(\"Токены:\", tokens)\n",
    "print(\"После удаления стоп-слов:\", filtered)\n",
    "print(\"После стемминга:\", stems)\n"
   ]
  }
 ],
 "metadata": {},
 "nbformat": 4,
 "nbformat_minor": 5
}
